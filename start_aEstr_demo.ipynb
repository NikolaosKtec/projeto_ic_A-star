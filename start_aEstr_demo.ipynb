{
 "cells": [
  {
   "cell_type": "code",
   "execution_count": 1,
   "id": "1ae26b6b-eb48-44a8-aa50-f37a16478fd2",
   "metadata": {},
   "outputs": [],
   "source": [
    "import numpy as np\n",
    "\n",
    "matriz = np.zeros([10,15], dtype=int)\n",
    "#criando a matriz com zeros"
   ]
  },
  {
   "cell_type": "code",
   "execution_count": 2,
   "id": "413c09a9-6a5a-49a3-afbe-cab110fdd6f7",
   "metadata": {},
   "outputs": [],
   "source": [
    "from operator import index\n",
    "\n",
    "\n",
    "class table:\n",
    "    def __init__(self, ini_row, Ini_col, fim_row, fim_col, matrix):\n",
    "        \n",
    "        self.ini_row = ini_row \n",
    "        self.ini_col = Ini_col\n",
    "        self.fim_row = fim_row\n",
    "        self.fim_col = fim_col\n",
    "        self.total_rows = fim_row - ini_row\n",
    "        self.total_cols = fim_col - Ini_col \n",
    "        self.matrix = matrix\n",
    "\n",
    "    #seta o inicio e fim\n",
    "    def put_iniEfim(self):\n",
    "        self.matrix[self.ini_row,self.ini_col] = 1\n",
    "        self.matrix[self.fim_row,self.fim_col] = -1\n",
    "    \n",
    "    #obstaculos aleatoriamente\n",
    "    def init_obstacles(self):\n",
    "        local_x_list = []#lista das x cordenadas aleatórias\n",
    "        local_y_list = []\n",
    "        quantd = int((self.total_cols*self.total_rows)*0.3)  #30% de obstaculos\n",
    "        rng = np.random.default_rng()\n",
    "\n",
    "        local_x_list = rng.integers(self.ini_row, self.fim_row+1,quantd)\n",
    "        local_y_list = rng.integers(self.ini_col+1,self.fim_col,quantd)\n",
    "        \n",
    "        obstacles = []\n",
    "        #organiza lista de cordenadas\n",
    "        for index,x in enumerate(local_x_list):\n",
    "            item = [x,local_y_list[index]] #]str(x)+','+str(local_y_list[index])\n",
    "            obstacles.append(item)\n",
    "\n",
    "        for o in obstacles:\n",
    "            self.matrix[o[0],o[1]] = 2\n",
    "\n",
    "        print(self.matrix)\n",
    "        \n",
    "        # print(obstacles[0][1]) forma de acesso"
   ]
  },
  {
   "cell_type": "code",
   "execution_count": 3,
   "id": "6dcd0a10-3351-40fb-9d94-92ce99f1065f",
   "metadata": {},
   "outputs": [
    {
     "name": "stdout",
     "output_type": "stream",
     "text": [
      "[[ 0  1  0  2  0  0  0  2  0  0  0  0  0  0  0]\n",
      " [ 0  0  2  0  0  0  0  0  0  0  2  0  0  0  0]\n",
      " [ 0  0  0  2  2  2  0  2  0  0  0  0  0  0  0]\n",
      " [ 0  0  0  0  2  2  0  0  0  0  0  0  0  0  0]\n",
      " [ 0  0  0  0  0  0  0  0  2  0  0  0  0  0  0]\n",
      " [ 0  0  2  2  0  2  2  2  0  0  0  0  0  0  0]\n",
      " [ 0  0  2  0  2  2  2  0  0  0  0  2  0  0  0]\n",
      " [ 0  0  0  0  0  0  2  0  2  0  0  0  0  0  0]\n",
      " [ 0  0  0  0  2  0  0  0  2  2  0  0  0  0  0]\n",
      " [ 0  0  0  0  0  0  0  0  0  0  0  0 -1  0  0]]\n"
     ]
    }
   ],
   "source": [
    "# 1 marca o inicio\n",
    "#-1 é o final\n",
    "# 2 são obstaculos\n",
    "# 3 são caminhos visitados\n",
    "\n",
    "main_table = table(0,1,9,12,matriz)\n",
    "main_table.put_iniEfim()\n",
    "main_table.init_obstacles()"
   ]
  },
  {
   "cell_type": "code",
   "execution_count": 4,
   "id": "68f84f12-a131-4cdb-bb8d-aa814b99a70d",
   "metadata": {},
   "outputs": [],
   "source": [
    "\n",
    "class map_grid:\n",
    "    def __init__(self,matrix,mr,mc):\n",
    "        self.x = 0\n",
    "        self.y = 0\n",
    "        self.matrix = matrix\n",
    "        self.pixel = self.matrix[self.x,self.y]\n",
    "        self.vizinho = []\n",
    "        self.max_row = mr\n",
    "        self.max_col = mc\n",
    "\n",
    "    def put_local(self,x,y):\n",
    "        self.x = x\n",
    "        self.y = y\n",
    "        self.pixel = self.matrix[x,y]\n",
    "\n",
    "    #verifica um possivel estouro de linhas e colunas\n",
    "    def is_overflow(self):\n",
    "        x = self.x\n",
    "        y = self.y\n",
    "        return x+1 >= self.max_row or y+1 >= self.max_col\n",
    "    #é um obstaculo?\n",
    "    def is_obstacle(self,x,y):\n",
    "        return self.matrix[x,y] == 2\n",
    "    #já foi visitado?\n",
    "    def is_visited(self,x,y):\n",
    "        return self.matrix[x,y] == 3\n",
    "    #chegou no final?\n",
    "    def is_final(self):\n",
    "        return self.pixel == -1\n",
    "    #define a rota\n",
    "    def rota(self):\n",
    "        x = self.x\n",
    "        y = self.y\n",
    "        #esquerda\n",
    "        # não utrapasse linha ou col, não seja obstaculo e não seja visitado\n",
    "        if  not self.is_overflow() and not self.is_obstacle(x,y+1) and not self.is_visited(x,y+1):\n",
    "            \n",
    "            self.vizinho.append([x,y+1]) #cordenadas do vizinho\n",
    "            print(self.vizinho)\n",
    "\n",
    "        #direita \n",
    "        if self.y > -1 and not self.is_obstacle(x,y-1) and not self.is_visited(x,y-1):\n",
    "            self.vizinho.append([x,y-1])\n",
    "        \n",
    "        #cima\n",
    "        if  x-1 > -1 and not self.is_obstacle(x-1,y) and not self.is_visited(x-1,y): \n",
    "            self.vizinho.append([x-1,y])\n",
    "\n",
    "        #baixo\n",
    "        if not self.is_overflow() and not self.is_obstacle(x+1,y) and not self.is_visited(x+1,y): \n",
    "            self.vizinho.append([x+1,y+1])"
   ]
  },
  {
   "cell_type": "code",
   "execution_count": 5,
   "id": "cbb6db93-369a-4345-89a1-55d50ab0f847",
   "metadata": {},
   "outputs": [
    {
     "name": "stdout",
     "output_type": "stream",
     "text": [
      "[[0, 2]]\n"
     ]
    }
   ],
   "source": [
    "row = main_table.ini_row\n",
    "col = main_table.ini_col\n",
    "\n",
    "mapa = map_grid(main_table.matrix ,main_table.total_rows+1 ,main_table.total_cols+1)\n",
    "\n",
    "mapa.put_local(row,col)\n",
    "mapa.rota()"
   ]
  },
  {
   "cell_type": "code",
   "execution_count": null,
   "id": "d40c1a5d-bed0-44f8-881a-be25032ba441",
   "metadata": {},
   "outputs": [],
   "source": [
    "class a_star:\n",
    "    \n",
    "\n"
   ]
  },
  {
   "cell_type": "code",
   "execution_count": null,
   "id": "a90cdfc9-e214-4d7c-8969-83037c9fbd24",
   "metadata": {},
   "outputs": [],
   "source": [
    "\n",
    "#loop \n",
    "while(true):\n",
    "    break"
   ]
  }
 ],
 "metadata": {
  "kernelspec": {
   "display_name": "Python 3 (ipykernel)",
   "language": "python",
   "name": "python3"
  },
  "language_info": {
   "codemirror_mode": {
    "name": "ipython",
    "version": 3
   },
   "file_extension": ".py",
   "mimetype": "text/x-python",
   "name": "python",
   "nbconvert_exporter": "python",
   "pygments_lexer": "ipython3",
   "version": "3.10.6"
  }
 },
 "nbformat": 4,
 "nbformat_minor": 5
}
