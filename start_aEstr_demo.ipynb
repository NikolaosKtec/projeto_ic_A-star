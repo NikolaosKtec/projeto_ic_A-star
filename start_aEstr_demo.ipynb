{
 "cells": [
  {
   "cell_type": "code",
   "execution_count": 1,
   "id": "1ae26b6b-eb48-44a8-aa50-f37a16478fd2",
   "metadata": {},
   "outputs": [],
   "source": [
    "import numpy as np\n",
    "\n",
    "matriz = np.zeros([20,15], dtype=int)\n",
    "#criando a matriz com zeros"
   ]
  },
  {
   "cell_type": "code",
   "execution_count": 2,
   "id": "413c09a9-6a5a-49a3-afbe-cab110fdd6f7",
   "metadata": {},
   "outputs": [
    {
     "name": "stdout",
     "output_type": "stream",
     "text": [
      "[[ 0  0  0  0  0  0  0  0  0  0  0  0  0  0  0]\n",
      " [ 0  0  0  0  0  0  0  0  0  0  0  0  0  0  0]\n",
      " [ 0  0  0  0  0  0  0  0  0  0  0  0  0  0  0]\n",
      " [ 0  0  0  0  0  0  0  0  0  0  0  0  0  0  0]\n",
      " [ 0  0  0  1  0  0  0  0  0  0  0  0  0  0  0]\n",
      " [ 0  0  0  0  0  0  0  0  0  0  0  0  0  0  0]\n",
      " [ 0  0  0  0  0  0  0  0  0  0  0  0  0  0  0]\n",
      " [ 0  0  0  0  0  0  0  0  0  0  0  0  0  0  0]\n",
      " [ 0  0  0  0  0  0  0  0  0  0  0  0  0  0  0]\n",
      " [ 0  0  0  0  0  0  0  0  0  0  0  0  0  0  0]\n",
      " [ 0  0  0  0  0  0  0  0  0  0  0  0  0  0  0]\n",
      " [ 0  0  0  0  0  0  0  0  0  0  0  0  0  0  0]\n",
      " [ 0  0  0  0  0  0  0  0  0  0  0  0  0  0  0]\n",
      " [ 0  0  0  0  0  0  0  0  0  0  0  0  0  0  0]\n",
      " [ 0  0  0  0  0  0  0  0  0  0  0  0  0  0  0]\n",
      " [ 0  0  0  0  0  0  0  0  0  0  0  0  0  0  0]\n",
      " [ 0  0  0  0  0  0  0  0  0  0 -1  0  0  0  0]\n",
      " [ 0  0  0  0  0  0  0  0  0  0  0  0  0  0  0]\n",
      " [ 0  0  0  0  0  0  0  0  0  0  0  0  0  0  0]\n",
      " [ 0  0  0  0  0  0  0  0  0  0  0  0  0  0  0]]\n"
     ]
    }
   ],
   "source": [
    "ini = [4,3]\n",
    "fim = [16,10]\n",
    "matriz[ini[0],ini[1]]= 1\n",
    "matriz[fim[0],fim[1]] = -1\n",
    "print(matriz)\n",
    "#testando acesso e valor\n",
    "#definindo inicio e fim hardcode"
   ]
  },
  {
   "cell_type": "code",
   "execution_count": 3,
   "id": "6dcd0a10-3351-40fb-9d94-92ce99f1065f",
   "metadata": {},
   "outputs": [
    {
     "name": "stdout",
     "output_type": "stream",
     "text": [
      "43 + 1610\n",
      "[ 124  748  420 1317  157  420 1257  799  533 1166 1078  422 1454  588\n",
      "  310 1220   61  538 1127  259  736 1000  998  486 1566]\n"
     ]
    }
   ],
   "source": [
    "rng = np.random.default_rng()\n",
    "\n",
    "id_ini = int(str(ini[0]) + str(ini[1]))\n",
    "id_fim = int(str(fim[0]) + str(fim[1]))\n",
    "\n",
    "print(id_ini,'+',id_fim)\n",
    "\n",
    "tam_coluna = fim[1]-ini[1]\n",
    "tam_lina = fim[0]-ini[0]\n",
    "\n",
    "\n",
    "espaco = int((tam_coluna*tam_lina)*0.3)\n",
    "\n",
    "int((id_fim-id_ini *0.5))\n",
    "#print(espaco)\n",
    "\n",
    "blocos = rng.integers(id_ini, id_fim,espaco )\n",
    "print(blocos)\n",
    "\n",
    "#checar os numeros aleatorios\n",
    "#checar quantidade de blocos gerados\n",
    "#passar para string\n",
    "#e selecionar numeros de 2 a 4 casas"
   ]
  },
  {
   "cell_type": "code",
   "execution_count": 5,
   "id": "68f84f12-a131-4cdb-bb8d-aa814b99a70d",
   "metadata": {},
   "outputs": [
    {
     "name": "stdout",
     "output_type": "stream",
     "text": [
      "[[13, 17], [12, 57], [11, 66], [10, 78], [14, 54], [12, 20], [6, 1], [11, 27], [10, 0], [15, 66]]\n"
     ]
    }
   ],
   "source": [
    "# def filt(x):\n",
    "#     if len(str(x)) != 3:\n",
    "#         return x\n",
    "    \n",
    "obstaculos = []\n",
    "\n",
    "\n",
    "for i in blocos:\n",
    "    var = str(i)\n",
    "    size = len(var) \n",
    "    if size != 3:\n",
    "        if size == 2:\n",
    "            obstaculos.append([int(var[0]),int(var[1])])\n",
    "        else:\n",
    "            obstaculos.append([int(var[0:2]),int(var[2:4])])\n",
    "\n",
    "#criando lista de obstáculos\n",
    "print(obstaculos)"
   ]
  },
  {
   "cell_type": "code",
   "execution_count": 60,
   "id": "cbb6db93-369a-4345-89a1-55d50ab0f847",
   "metadata": {},
   "outputs": [
    {
     "name": "stdout",
     "output_type": "stream",
     "text": [
      "11 + 42\n"
     ]
    }
   ],
   "source": [
    "print(id_ini,'+',id_fim)"
   ]
  },
  {
   "cell_type": "code",
   "execution_count": null,
   "id": "d40c1a5d-bed0-44f8-881a-be25032ba441",
   "metadata": {},
   "outputs": [],
   "source": [
    "#inicia o jogo\n",
    "def init(matriz,obstaculos,partida,fim):\n",
    "    \n",
    "    cordenadas_obs = [x_y:[0,0]]\n",
    "    for i,j in matriz:\n",
    "        \n",
    "    \n",
    "    "
   ]
  }
 ],
 "metadata": {
  "kernelspec": {
   "display_name": "Python 3 (ipykernel)",
   "language": "python",
   "name": "python3"
  },
  "language_info": {
   "codemirror_mode": {
    "name": "ipython",
    "version": 3
   },
   "file_extension": ".py",
   "mimetype": "text/x-python",
   "name": "python",
   "nbconvert_exporter": "python",
   "pygments_lexer": "ipython3",
   "version": "3.10.6"
  }
 },
 "nbformat": 4,
 "nbformat_minor": 5
}
